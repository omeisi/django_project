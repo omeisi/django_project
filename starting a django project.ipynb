{
 "cells": [
  {
   "cell_type": "code",
   "execution_count": null,
   "metadata": {},
   "outputs": [],
   "source": [
    "#install django on terminal\n",
    "#pip install django\n",
    "\n",
    "#find out which version of django do you use\n",
    "#python -m django --version\n",
    "\n",
    "#find out sub titles for django\n",
    "#django-admin\n",
    "\n",
    "#to start a new project use \"startproject\" and \"name of the project\"\n",
    "#django-admin startproject \"django_project\"\n",
    "\n",
    "#go to your new project\n",
    "#cd \"location of your project(django_project)\"\n",
    "\n",
    "#to run your project use:\n",
    "#python manage.py run server\n",
    "\n",
    "\n",
    "\n",
    "\n"
   ]
  },
  {
   "cell_type": "code",
   "execution_count": null,
   "metadata": {},
   "outputs": [],
   "source": [
    "#create a new app command\n",
    "#python manage.py startapp \"name of your app\"\n",
    "\n",
    "#inside your app the file \"view\" is what ppl will see when they go to the url page"
   ]
  },
  {
   "cell_type": "code",
   "execution_count": null,
   "metadata": {},
   "outputs": [],
   "source": [
    "#to create an admin user name and password\n",
    "\n",
    "#to setup makemigrations \n",
    "#python manage.py makemigrations\n",
    "\n",
    "#to apply the makemigrations\n",
    "#python manage.py migrate\n",
    "\n",
    "\n",
    "#you will have an error is you don't have makemigrations set\n",
    "#python manage.py createsuperuser\n",
    "\n",
    "\n",
    "\n",
    "\n",
    "\n"
   ]
  },
  {
   "cell_type": "code",
   "execution_count": null,
   "metadata": {},
   "outputs": [],
   "source": [
    "#if you want to see the user data from the comand line \n",
    "\n",
    "#step 1 - open a python  screen\n",
    "python manage.py shell \n",
    "\n",
    "#step 2 - import Post class, and the user model \n",
    "from blog.models import Post\n",
    "from django.contrib.auth.models import User\n",
    "\n",
    "\n",
    "#to get all the Users info\n",
    "User.objects.all()\n",
    "#spesific \n",
    "user  = User.objects.filter(username='').first()\n",
    "#save the user to a veriable \n",
    "#to get a user by id you can use \n",
    "User.objects.get(id=1)"
   ]
  },
  {
   "cell_type": "code",
   "execution_count": null,
   "metadata": {},
   "outputs": [],
   "source": [
    "#import a form with python (login form)\n",
    "#from django.contrib.auth.forms import UserCreationForm"
   ]
  },
  {
   "cell_type": "code",
   "execution_count": null,
   "metadata": {},
   "outputs": [],
   "source": [
    "pwd"
   ]
  },
  {
   "cell_type": "code",
   "execution_count": null,
   "metadata": {},
   "outputs": [],
   "source": [
    "import json\n",
    "from blog.models import Post\n",
    "from django.contrib.auth.models import User\n",
    "with open('posts.json') as f:\n",
    "    posts_json = json.load(f)\n",
    "\n",
    "for post in posts_json: \n",
    "    post =  Post(title=post['title'], content=post['content'], author_id=post['user_id'])\n",
    "    post.save()"
   ]
  },
  {
   "cell_type": "code",
   "execution_count": null,
   "metadata": {},
   "outputs": [],
   "source": [
    "with open('posts.json') as f:\n",
    "    posts_json = json.load(f)"
   ]
  },
  {
   "cell_type": "code",
   "execution_count": null,
   "metadata": {},
   "outputs": [],
   "source": [
    "for post in posts_json:\n",
    "    post = print(Post(title=['title'], content=['content'], author_id=['user_id'] ))"
   ]
  },
  {
   "cell_type": "code",
   "execution_count": null,
   "metadata": {},
   "outputs": [],
   "source": []
  },
  {
   "cell_type": "code",
   "execution_count": null,
   "metadata": {},
   "outputs": [],
   "source": []
  }
 ],
 "metadata": {
  "kernelspec": {
   "display_name": "Python 3",
   "language": "python",
   "name": "python3"
  },
  "language_info": {
   "codemirror_mode": {
    "name": "ipython",
    "version": 3
   },
   "file_extension": ".py",
   "mimetype": "text/x-python",
   "name": "python",
   "nbconvert_exporter": "python",
   "pygments_lexer": "ipython3",
   "version": "3.6.5"
  }
 },
 "nbformat": 4,
 "nbformat_minor": 2
}
