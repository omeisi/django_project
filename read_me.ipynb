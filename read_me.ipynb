{
 "cells": [
  {
   "cell_type": "code",
   "execution_count": 1,
   "metadata": {},
   "outputs": [],
   "source": [
    "#install django on terminal\n",
    "#pip install django\n",
    "\n",
    "#find out which version of django do you use\n",
    "#python -m django --version\n",
    "\n",
    "#find out sub titles for django\n",
    "#django-admin\n",
    "\n",
    "#to start a new project use \"startproject\" and \"name of the project\"\n",
    "#django-admin startproject \"django_project\"\n",
    "\n",
    "#go to your new project\n",
    "#cd \"location of your project(django_project)\"\n",
    "\n",
    "#to run your project use:\n",
    "#python manage.py run server\n",
    "\n",
    "\n",
    "\n",
    "\n"
   ]
  },
  {
   "cell_type": "code",
   "execution_count": null,
   "metadata": {},
   "outputs": [],
   "source": [
    "#create a new app command\n",
    "#python manage.py startapp \"name of your app\"\n",
    "\n",
    "#inside your app the file \"view\" is what ppl will see when they go to the url page"
   ]
  }
 ],
 "metadata": {
  "kernelspec": {
   "display_name": "Python 3",
   "language": "python",
   "name": "python3"
  },
  "language_info": {
   "codemirror_mode": {
    "name": "ipython",
    "version": 3
   },
   "file_extension": ".py",
   "mimetype": "text/x-python",
   "name": "python",
   "nbconvert_exporter": "python",
   "pygments_lexer": "ipython3",
   "version": "3.6.5"
  }
 },
 "nbformat": 4,
 "nbformat_minor": 2
}
